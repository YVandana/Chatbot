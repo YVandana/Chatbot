{
  "nbformat": 4,
  "nbformat_minor": 0,
  "metadata": {
    "colab": {
      "provenance": []
    },
    "kernelspec": {
      "name": "python3",
      "display_name": "Python 3"
    },
    "language_info": {
      "name": "python"
    }
  },
  "cells": [
    {
      "cell_type": "code",
      "execution_count": 20,
      "metadata": {
        "colab": {
          "base_uri": "https://localhost:8080/"
        },
        "id": "HtKqVDMZTg4C",
        "outputId": "e189e8ab-d93e-4968-80a8-40b7d4cb2cc6"
      },
      "outputs": [
        {
          "output_type": "stream",
          "name": "stdout",
          "text": [
            "Requirement already satisfied: huggingface_hub in /usr/local/lib/python3.10/dist-packages (0.24.6)\n",
            "Requirement already satisfied: filelock in /usr/local/lib/python3.10/dist-packages (from huggingface_hub) (3.15.4)\n",
            "Requirement already satisfied: fsspec>=2023.5.0 in /usr/local/lib/python3.10/dist-packages (from huggingface_hub) (2024.6.1)\n",
            "Requirement already satisfied: packaging>=20.9 in /usr/local/lib/python3.10/dist-packages (from huggingface_hub) (23.2)\n",
            "Requirement already satisfied: pyyaml>=5.1 in /usr/local/lib/python3.10/dist-packages (from huggingface_hub) (6.0.2)\n",
            "Requirement already satisfied: requests in /usr/local/lib/python3.10/dist-packages (from huggingface_hub) (2.32.3)\n",
            "Requirement already satisfied: tqdm>=4.42.1 in /usr/local/lib/python3.10/dist-packages (from huggingface_hub) (4.66.5)\n",
            "Requirement already satisfied: typing-extensions>=3.7.4.3 in /usr/local/lib/python3.10/dist-packages (from huggingface_hub) (4.12.2)\n",
            "Requirement already satisfied: charset-normalizer<4,>=2 in /usr/local/lib/python3.10/dist-packages (from requests->huggingface_hub) (3.3.2)\n",
            "Requirement already satisfied: idna<4,>=2.5 in /usr/local/lib/python3.10/dist-packages (from requests->huggingface_hub) (3.8)\n",
            "Requirement already satisfied: urllib3<3,>=1.21.1 in /usr/local/lib/python3.10/dist-packages (from requests->huggingface_hub) (2.0.7)\n",
            "Requirement already satisfied: certifi>=2017.4.17 in /usr/local/lib/python3.10/dist-packages (from requests->huggingface_hub) (2024.8.30)\n",
            "Requirement already satisfied: transformers in /usr/local/lib/python3.10/dist-packages (4.44.2)\n",
            "Requirement already satisfied: filelock in /usr/local/lib/python3.10/dist-packages (from transformers) (3.15.4)\n",
            "Requirement already satisfied: huggingface-hub<1.0,>=0.23.2 in /usr/local/lib/python3.10/dist-packages (from transformers) (0.24.6)\n",
            "Requirement already satisfied: numpy>=1.17 in /usr/local/lib/python3.10/dist-packages (from transformers) (1.26.4)\n",
            "Requirement already satisfied: packaging>=20.0 in /usr/local/lib/python3.10/dist-packages (from transformers) (23.2)\n",
            "Requirement already satisfied: pyyaml>=5.1 in /usr/local/lib/python3.10/dist-packages (from transformers) (6.0.2)\n",
            "Requirement already satisfied: regex!=2019.12.17 in /usr/local/lib/python3.10/dist-packages (from transformers) (2024.5.15)\n",
            "Requirement already satisfied: requests in /usr/local/lib/python3.10/dist-packages (from transformers) (2.32.3)\n",
            "Requirement already satisfied: safetensors>=0.4.1 in /usr/local/lib/python3.10/dist-packages (from transformers) (0.4.4)\n",
            "Requirement already satisfied: tokenizers<0.20,>=0.19 in /usr/local/lib/python3.10/dist-packages (from transformers) (0.19.1)\n",
            "Requirement already satisfied: tqdm>=4.27 in /usr/local/lib/python3.10/dist-packages (from transformers) (4.66.5)\n",
            "Requirement already satisfied: fsspec>=2023.5.0 in /usr/local/lib/python3.10/dist-packages (from huggingface-hub<1.0,>=0.23.2->transformers) (2024.6.1)\n",
            "Requirement already satisfied: typing-extensions>=3.7.4.3 in /usr/local/lib/python3.10/dist-packages (from huggingface-hub<1.0,>=0.23.2->transformers) (4.12.2)\n",
            "Requirement already satisfied: charset-normalizer<4,>=2 in /usr/local/lib/python3.10/dist-packages (from requests->transformers) (3.3.2)\n",
            "Requirement already satisfied: idna<4,>=2.5 in /usr/local/lib/python3.10/dist-packages (from requests->transformers) (3.8)\n",
            "Requirement already satisfied: urllib3<3,>=1.21.1 in /usr/local/lib/python3.10/dist-packages (from requests->transformers) (2.0.7)\n",
            "Requirement already satisfied: certifi>=2017.4.17 in /usr/local/lib/python3.10/dist-packages (from requests->transformers) (2024.8.30)\n",
            "Requirement already satisfied: langchain in /usr/local/lib/python3.10/dist-packages (0.2.16)\n",
            "Requirement already satisfied: PyYAML>=5.3 in /usr/local/lib/python3.10/dist-packages (from langchain) (6.0.2)\n",
            "Requirement already satisfied: SQLAlchemy<3,>=1.4 in /usr/local/lib/python3.10/dist-packages (from langchain) (2.0.32)\n",
            "Requirement already satisfied: aiohttp<4.0.0,>=3.8.3 in /usr/local/lib/python3.10/dist-packages (from langchain) (3.10.5)\n",
            "Requirement already satisfied: async-timeout<5.0.0,>=4.0.0 in /usr/local/lib/python3.10/dist-packages (from langchain) (4.0.3)\n",
            "Requirement already satisfied: langchain-core<0.3.0,>=0.2.38 in /usr/local/lib/python3.10/dist-packages (from langchain) (0.2.38)\n",
            "Requirement already satisfied: langchain-text-splitters<0.3.0,>=0.2.0 in /usr/local/lib/python3.10/dist-packages (from langchain) (0.2.4)\n",
            "Requirement already satisfied: langsmith<0.2.0,>=0.1.17 in /usr/local/lib/python3.10/dist-packages (from langchain) (0.1.117)\n",
            "Requirement already satisfied: numpy<2,>=1 in /usr/local/lib/python3.10/dist-packages (from langchain) (1.26.4)\n",
            "Requirement already satisfied: pydantic<3,>=1 in /usr/local/lib/python3.10/dist-packages (from langchain) (2.8.2)\n",
            "Requirement already satisfied: requests<3,>=2 in /usr/local/lib/python3.10/dist-packages (from langchain) (2.32.3)\n",
            "Requirement already satisfied: tenacity!=8.4.0,<9.0.0,>=8.1.0 in /usr/local/lib/python3.10/dist-packages (from langchain) (8.5.0)\n",
            "Requirement already satisfied: aiohappyeyeballs>=2.3.0 in /usr/local/lib/python3.10/dist-packages (from aiohttp<4.0.0,>=3.8.3->langchain) (2.4.0)\n",
            "Requirement already satisfied: aiosignal>=1.1.2 in /usr/local/lib/python3.10/dist-packages (from aiohttp<4.0.0,>=3.8.3->langchain) (1.3.1)\n",
            "Requirement already satisfied: attrs>=17.3.0 in /usr/local/lib/python3.10/dist-packages (from aiohttp<4.0.0,>=3.8.3->langchain) (24.2.0)\n",
            "Requirement already satisfied: frozenlist>=1.1.1 in /usr/local/lib/python3.10/dist-packages (from aiohttp<4.0.0,>=3.8.3->langchain) (1.4.1)\n",
            "Requirement already satisfied: multidict<7.0,>=4.5 in /usr/local/lib/python3.10/dist-packages (from aiohttp<4.0.0,>=3.8.3->langchain) (6.0.5)\n",
            "Requirement already satisfied: yarl<2.0,>=1.0 in /usr/local/lib/python3.10/dist-packages (from aiohttp<4.0.0,>=3.8.3->langchain) (1.9.4)\n",
            "Requirement already satisfied: jsonpatch<2.0,>=1.33 in /usr/local/lib/python3.10/dist-packages (from langchain-core<0.3.0,>=0.2.38->langchain) (1.33)\n",
            "Requirement already satisfied: packaging<25,>=23.2 in /usr/local/lib/python3.10/dist-packages (from langchain-core<0.3.0,>=0.2.38->langchain) (23.2)\n",
            "Requirement already satisfied: typing-extensions>=4.7 in /usr/local/lib/python3.10/dist-packages (from langchain-core<0.3.0,>=0.2.38->langchain) (4.12.2)\n",
            "Requirement already satisfied: httpx<1,>=0.23.0 in /usr/local/lib/python3.10/dist-packages (from langsmith<0.2.0,>=0.1.17->langchain) (0.27.2)\n",
            "Requirement already satisfied: orjson<4.0.0,>=3.9.14 in /usr/local/lib/python3.10/dist-packages (from langsmith<0.2.0,>=0.1.17->langchain) (3.10.7)\n",
            "Requirement already satisfied: annotated-types>=0.4.0 in /usr/local/lib/python3.10/dist-packages (from pydantic<3,>=1->langchain) (0.7.0)\n",
            "Requirement already satisfied: pydantic-core==2.20.1 in /usr/local/lib/python3.10/dist-packages (from pydantic<3,>=1->langchain) (2.20.1)\n",
            "Requirement already satisfied: charset-normalizer<4,>=2 in /usr/local/lib/python3.10/dist-packages (from requests<3,>=2->langchain) (3.3.2)\n",
            "Requirement already satisfied: idna<4,>=2.5 in /usr/local/lib/python3.10/dist-packages (from requests<3,>=2->langchain) (3.8)\n",
            "Requirement already satisfied: urllib3<3,>=1.21.1 in /usr/local/lib/python3.10/dist-packages (from requests<3,>=2->langchain) (2.0.7)\n",
            "Requirement already satisfied: certifi>=2017.4.17 in /usr/local/lib/python3.10/dist-packages (from requests<3,>=2->langchain) (2024.8.30)\n",
            "Requirement already satisfied: greenlet!=0.4.17 in /usr/local/lib/python3.10/dist-packages (from SQLAlchemy<3,>=1.4->langchain) (3.0.3)\n",
            "Requirement already satisfied: anyio in /usr/local/lib/python3.10/dist-packages (from httpx<1,>=0.23.0->langsmith<0.2.0,>=0.1.17->langchain) (3.7.1)\n",
            "Requirement already satisfied: httpcore==1.* in /usr/local/lib/python3.10/dist-packages (from httpx<1,>=0.23.0->langsmith<0.2.0,>=0.1.17->langchain) (1.0.5)\n",
            "Requirement already satisfied: sniffio in /usr/local/lib/python3.10/dist-packages (from httpx<1,>=0.23.0->langsmith<0.2.0,>=0.1.17->langchain) (1.3.1)\n",
            "Requirement already satisfied: h11<0.15,>=0.13 in /usr/local/lib/python3.10/dist-packages (from httpcore==1.*->httpx<1,>=0.23.0->langsmith<0.2.0,>=0.1.17->langchain) (0.14.0)\n",
            "Requirement already satisfied: jsonpointer>=1.9 in /usr/local/lib/python3.10/dist-packages (from jsonpatch<2.0,>=1.33->langchain-core<0.3.0,>=0.2.38->langchain) (3.0.0)\n",
            "Requirement already satisfied: exceptiongroup in /usr/local/lib/python3.10/dist-packages (from anyio->httpx<1,>=0.23.0->langsmith<0.2.0,>=0.1.17->langchain) (1.2.2)\n",
            "Requirement already satisfied: chainlit in /usr/local/lib/python3.10/dist-packages (1.1.404)\n",
            "Requirement already satisfied: aiofiles<24.0.0,>=23.1.0 in /usr/local/lib/python3.10/dist-packages (from chainlit) (23.2.1)\n",
            "Requirement already satisfied: asyncer<0.0.8,>=0.0.7 in /usr/local/lib/python3.10/dist-packages (from chainlit) (0.0.7)\n",
            "Requirement already satisfied: click<9.0.0,>=8.1.3 in /usr/local/lib/python3.10/dist-packages (from chainlit) (8.1.7)\n",
            "Requirement already satisfied: dataclasses_json<0.6.0,>=0.5.7 in /usr/local/lib/python3.10/dist-packages (from chainlit) (0.5.14)\n",
            "Requirement already satisfied: fastapi<0.111.0,>=0.110.1 in /usr/local/lib/python3.10/dist-packages (from chainlit) (0.110.3)\n",
            "Requirement already satisfied: filetype<2.0.0,>=1.2.0 in /usr/local/lib/python3.10/dist-packages (from chainlit) (1.2.0)\n",
            "Requirement already satisfied: httpx>=0.23.0 in /usr/local/lib/python3.10/dist-packages (from chainlit) (0.27.2)\n",
            "Requirement already satisfied: lazify<0.5.0,>=0.4.0 in /usr/local/lib/python3.10/dist-packages (from chainlit) (0.4.0)\n",
            "Requirement already satisfied: literalai==0.0.607 in /usr/local/lib/python3.10/dist-packages (from chainlit) (0.0.607)\n",
            "Requirement already satisfied: nest-asyncio<2.0.0,>=1.6.0 in /usr/local/lib/python3.10/dist-packages (from chainlit) (1.6.0)\n",
            "Requirement already satisfied: numpy<2.0,>=1.26 in /usr/local/lib/python3.10/dist-packages (from chainlit) (1.26.4)\n",
            "Requirement already satisfied: packaging<24.0,>=23.1 in /usr/local/lib/python3.10/dist-packages (from chainlit) (23.2)\n",
            "Requirement already satisfied: pydantic<3,>=1 in /usr/local/lib/python3.10/dist-packages (from chainlit) (2.8.2)\n",
            "Requirement already satisfied: pyjwt<3.0.0,>=2.8.0 in /usr/local/lib/python3.10/dist-packages (from chainlit) (2.9.0)\n",
            "Requirement already satisfied: python-dotenv<2.0.0,>=1.0.0 in /usr/local/lib/python3.10/dist-packages (from chainlit) (1.0.1)\n",
            "Requirement already satisfied: python-multipart<0.0.10,>=0.0.9 in /usr/local/lib/python3.10/dist-packages (from chainlit) (0.0.9)\n",
            "Requirement already satisfied: python-socketio<6.0.0,>=5.11.0 in /usr/local/lib/python3.10/dist-packages (from chainlit) (5.11.4)\n",
            "Requirement already satisfied: starlette<0.38.0,>=0.37.2 in /usr/local/lib/python3.10/dist-packages (from chainlit) (0.37.2)\n",
            "Requirement already satisfied: syncer<3.0.0,>=2.0.3 in /usr/local/lib/python3.10/dist-packages (from chainlit) (2.0.3)\n",
            "Requirement already satisfied: tomli<3.0.0,>=2.0.1 in /usr/local/lib/python3.10/dist-packages (from chainlit) (2.0.1)\n",
            "Requirement already satisfied: uptrace<2.0.0,>=1.22.0 in /usr/local/lib/python3.10/dist-packages (from chainlit) (1.26.0)\n",
            "Requirement already satisfied: uvicorn<0.26.0,>=0.25.0 in /usr/local/lib/python3.10/dist-packages (from chainlit) (0.25.0)\n",
            "Requirement already satisfied: watchfiles<0.21.0,>=0.20.0 in /usr/local/lib/python3.10/dist-packages (from chainlit) (0.20.0)\n",
            "Requirement already satisfied: chevron>=0.14.0 in /usr/local/lib/python3.10/dist-packages (from literalai==0.0.607->chainlit) (0.14.0)\n",
            "Requirement already satisfied: anyio<5.0,>=3.4.0 in /usr/local/lib/python3.10/dist-packages (from asyncer<0.0.8,>=0.0.7->chainlit) (3.7.1)\n",
            "Requirement already satisfied: marshmallow<4.0.0,>=3.18.0 in /usr/local/lib/python3.10/dist-packages (from dataclasses_json<0.6.0,>=0.5.7->chainlit) (3.22.0)\n",
            "Requirement already satisfied: typing-inspect<1,>=0.4.0 in /usr/local/lib/python3.10/dist-packages (from dataclasses_json<0.6.0,>=0.5.7->chainlit) (0.9.0)\n",
            "Requirement already satisfied: typing-extensions>=4.8.0 in /usr/local/lib/python3.10/dist-packages (from fastapi<0.111.0,>=0.110.1->chainlit) (4.12.2)\n",
            "Requirement already satisfied: certifi in /usr/local/lib/python3.10/dist-packages (from httpx>=0.23.0->chainlit) (2024.8.30)\n",
            "Requirement already satisfied: httpcore==1.* in /usr/local/lib/python3.10/dist-packages (from httpx>=0.23.0->chainlit) (1.0.5)\n",
            "Requirement already satisfied: idna in /usr/local/lib/python3.10/dist-packages (from httpx>=0.23.0->chainlit) (3.8)\n",
            "Requirement already satisfied: sniffio in /usr/local/lib/python3.10/dist-packages (from httpx>=0.23.0->chainlit) (1.3.1)\n",
            "Requirement already satisfied: h11<0.15,>=0.13 in /usr/local/lib/python3.10/dist-packages (from httpcore==1.*->httpx>=0.23.0->chainlit) (0.14.0)\n",
            "Requirement already satisfied: annotated-types>=0.4.0 in /usr/local/lib/python3.10/dist-packages (from pydantic<3,>=1->chainlit) (0.7.0)\n",
            "Requirement already satisfied: pydantic-core==2.20.1 in /usr/local/lib/python3.10/dist-packages (from pydantic<3,>=1->chainlit) (2.20.1)\n",
            "Requirement already satisfied: bidict>=0.21.0 in /usr/local/lib/python3.10/dist-packages (from python-socketio<6.0.0,>=5.11.0->chainlit) (0.23.1)\n",
            "Requirement already satisfied: python-engineio>=4.8.0 in /usr/local/lib/python3.10/dist-packages (from python-socketio<6.0.0,>=5.11.0->chainlit) (4.9.1)\n",
            "Requirement already satisfied: opentelemetry-api~=1.26 in /usr/local/lib/python3.10/dist-packages (from uptrace<2.0.0,>=1.22.0->chainlit) (1.27.0)\n",
            "Requirement already satisfied: opentelemetry-exporter-otlp~=1.26 in /usr/local/lib/python3.10/dist-packages (from uptrace<2.0.0,>=1.22.0->chainlit) (1.27.0)\n",
            "Requirement already satisfied: opentelemetry-instrumentation~=0.47b0 in /usr/local/lib/python3.10/dist-packages (from uptrace<2.0.0,>=1.22.0->chainlit) (0.48b0)\n",
            "Requirement already satisfied: opentelemetry-sdk~=1.26 in /usr/local/lib/python3.10/dist-packages (from uptrace<2.0.0,>=1.22.0->chainlit) (1.27.0)\n",
            "Requirement already satisfied: exceptiongroup in /usr/local/lib/python3.10/dist-packages (from anyio<5.0,>=3.4.0->asyncer<0.0.8,>=0.0.7->chainlit) (1.2.2)\n",
            "Requirement already satisfied: deprecated>=1.2.6 in /usr/local/lib/python3.10/dist-packages (from opentelemetry-api~=1.26->uptrace<2.0.0,>=1.22.0->chainlit) (1.2.14)\n",
            "Requirement already satisfied: importlib-metadata<=8.4.0,>=6.0 in /usr/local/lib/python3.10/dist-packages (from opentelemetry-api~=1.26->uptrace<2.0.0,>=1.22.0->chainlit) (8.4.0)\n",
            "Requirement already satisfied: opentelemetry-exporter-otlp-proto-grpc==1.27.0 in /usr/local/lib/python3.10/dist-packages (from opentelemetry-exporter-otlp~=1.26->uptrace<2.0.0,>=1.22.0->chainlit) (1.27.0)\n",
            "Requirement already satisfied: opentelemetry-exporter-otlp-proto-http==1.27.0 in /usr/local/lib/python3.10/dist-packages (from opentelemetry-exporter-otlp~=1.26->uptrace<2.0.0,>=1.22.0->chainlit) (1.27.0)\n",
            "Requirement already satisfied: googleapis-common-protos~=1.52 in /usr/local/lib/python3.10/dist-packages (from opentelemetry-exporter-otlp-proto-grpc==1.27.0->opentelemetry-exporter-otlp~=1.26->uptrace<2.0.0,>=1.22.0->chainlit) (1.65.0)\n",
            "Requirement already satisfied: grpcio<2.0.0,>=1.0.0 in /usr/local/lib/python3.10/dist-packages (from opentelemetry-exporter-otlp-proto-grpc==1.27.0->opentelemetry-exporter-otlp~=1.26->uptrace<2.0.0,>=1.22.0->chainlit) (1.64.1)\n",
            "Requirement already satisfied: opentelemetry-exporter-otlp-proto-common==1.27.0 in /usr/local/lib/python3.10/dist-packages (from opentelemetry-exporter-otlp-proto-grpc==1.27.0->opentelemetry-exporter-otlp~=1.26->uptrace<2.0.0,>=1.22.0->chainlit) (1.27.0)\n",
            "Requirement already satisfied: opentelemetry-proto==1.27.0 in /usr/local/lib/python3.10/dist-packages (from opentelemetry-exporter-otlp-proto-grpc==1.27.0->opentelemetry-exporter-otlp~=1.26->uptrace<2.0.0,>=1.22.0->chainlit) (1.27.0)\n",
            "Requirement already satisfied: requests~=2.7 in /usr/local/lib/python3.10/dist-packages (from opentelemetry-exporter-otlp-proto-http==1.27.0->opentelemetry-exporter-otlp~=1.26->uptrace<2.0.0,>=1.22.0->chainlit) (2.32.3)\n",
            "Requirement already satisfied: protobuf<5.0,>=3.19 in /usr/local/lib/python3.10/dist-packages (from opentelemetry-proto==1.27.0->opentelemetry-exporter-otlp-proto-grpc==1.27.0->opentelemetry-exporter-otlp~=1.26->uptrace<2.0.0,>=1.22.0->chainlit) (3.20.3)\n",
            "Requirement already satisfied: setuptools>=16.0 in /usr/local/lib/python3.10/dist-packages (from opentelemetry-instrumentation~=0.47b0->uptrace<2.0.0,>=1.22.0->chainlit) (71.0.4)\n",
            "Requirement already satisfied: wrapt<2.0.0,>=1.0.0 in /usr/local/lib/python3.10/dist-packages (from opentelemetry-instrumentation~=0.47b0->uptrace<2.0.0,>=1.22.0->chainlit) (1.16.0)\n",
            "Requirement already satisfied: opentelemetry-semantic-conventions==0.48b0 in /usr/local/lib/python3.10/dist-packages (from opentelemetry-sdk~=1.26->uptrace<2.0.0,>=1.22.0->chainlit) (0.48b0)\n",
            "Requirement already satisfied: simple-websocket>=0.10.0 in /usr/local/lib/python3.10/dist-packages (from python-engineio>=4.8.0->python-socketio<6.0.0,>=5.11.0->chainlit) (1.0.0)\n",
            "Requirement already satisfied: mypy-extensions>=0.3.0 in /usr/local/lib/python3.10/dist-packages (from typing-inspect<1,>=0.4.0->dataclasses_json<0.6.0,>=0.5.7->chainlit) (1.0.0)\n",
            "Requirement already satisfied: zipp>=0.5 in /usr/local/lib/python3.10/dist-packages (from importlib-metadata<=8.4.0,>=6.0->opentelemetry-api~=1.26->uptrace<2.0.0,>=1.22.0->chainlit) (3.20.1)\n",
            "Requirement already satisfied: wsproto in /usr/local/lib/python3.10/dist-packages (from simple-websocket>=0.10.0->python-engineio>=4.8.0->python-socketio<6.0.0,>=5.11.0->chainlit) (1.2.0)\n",
            "Requirement already satisfied: charset-normalizer<4,>=2 in /usr/local/lib/python3.10/dist-packages (from requests~=2.7->opentelemetry-exporter-otlp-proto-http==1.27.0->opentelemetry-exporter-otlp~=1.26->uptrace<2.0.0,>=1.22.0->chainlit) (3.3.2)\n",
            "Requirement already satisfied: urllib3<3,>=1.21.1 in /usr/local/lib/python3.10/dist-packages (from requests~=2.7->opentelemetry-exporter-otlp-proto-http==1.27.0->opentelemetry-exporter-otlp~=1.26->uptrace<2.0.0,>=1.22.0->chainlit) (2.0.7)\n"
          ]
        }
      ],
      "source": [
        "!pip install huggingface_hub\n",
        "!pip install transformers\n",
        "!pip install langchain\n",
        "!pip install chainlit"
      ]
    },
    {
      "cell_type": "code",
      "source": [
        "!chainlit hello"
      ],
      "metadata": {
        "colab": {
          "base_uri": "https://localhost:8080/"
        },
        "id": "jvqdmxY2Trtk",
        "outputId": "c3be4293-1802-4b76-9013-5c2c6081365b"
      },
      "execution_count": 21,
      "outputs": [
        {
          "output_type": "stream",
          "name": "stdout",
          "text": [
            "2024-09-09 20:55:07 - Your app is available at http://localhost:8000\n"
          ]
        }
      ]
    },
    {
      "cell_type": "markdown",
      "source": [
        "#Libraries and Access Token"
      ],
      "metadata": {
        "id": "iRvH-gOqT2S_"
      }
    },
    {
      "cell_type": "code",
      "source": [
        "pip install langchain-community langchain-core"
      ],
      "metadata": {
        "colab": {
          "base_uri": "https://localhost:8080/"
        },
        "id": "ZmWprDBdk022",
        "outputId": "e0c50dd9-b818-4200-a480-1348be87d94b"
      },
      "execution_count": 24,
      "outputs": [
        {
          "output_type": "stream",
          "name": "stdout",
          "text": [
            "Collecting langchain-community\n",
            "  Downloading langchain_community-0.2.16-py3-none-any.whl.metadata (2.7 kB)\n",
            "Requirement already satisfied: langchain-core in /usr/local/lib/python3.10/dist-packages (0.2.38)\n",
            "Requirement already satisfied: PyYAML>=5.3 in /usr/local/lib/python3.10/dist-packages (from langchain-community) (6.0.2)\n",
            "Requirement already satisfied: SQLAlchemy<3,>=1.4 in /usr/local/lib/python3.10/dist-packages (from langchain-community) (2.0.32)\n",
            "Requirement already satisfied: aiohttp<4.0.0,>=3.8.3 in /usr/local/lib/python3.10/dist-packages (from langchain-community) (3.10.5)\n",
            "Requirement already satisfied: dataclasses-json<0.7,>=0.5.7 in /usr/local/lib/python3.10/dist-packages (from langchain-community) (0.5.14)\n",
            "Requirement already satisfied: langchain<0.3.0,>=0.2.16 in /usr/local/lib/python3.10/dist-packages (from langchain-community) (0.2.16)\n",
            "Requirement already satisfied: langsmith<0.2.0,>=0.1.0 in /usr/local/lib/python3.10/dist-packages (from langchain-community) (0.1.117)\n",
            "Requirement already satisfied: numpy<2,>=1 in /usr/local/lib/python3.10/dist-packages (from langchain-community) (1.26.4)\n",
            "Requirement already satisfied: requests<3,>=2 in /usr/local/lib/python3.10/dist-packages (from langchain-community) (2.32.3)\n",
            "Requirement already satisfied: tenacity!=8.4.0,<9.0.0,>=8.1.0 in /usr/local/lib/python3.10/dist-packages (from langchain-community) (8.5.0)\n",
            "Requirement already satisfied: jsonpatch<2.0,>=1.33 in /usr/local/lib/python3.10/dist-packages (from langchain-core) (1.33)\n",
            "Requirement already satisfied: packaging<25,>=23.2 in /usr/local/lib/python3.10/dist-packages (from langchain-core) (23.2)\n",
            "Requirement already satisfied: pydantic<3,>=1 in /usr/local/lib/python3.10/dist-packages (from langchain-core) (2.8.2)\n",
            "Requirement already satisfied: typing-extensions>=4.7 in /usr/local/lib/python3.10/dist-packages (from langchain-core) (4.12.2)\n",
            "Requirement already satisfied: aiohappyeyeballs>=2.3.0 in /usr/local/lib/python3.10/dist-packages (from aiohttp<4.0.0,>=3.8.3->langchain-community) (2.4.0)\n",
            "Requirement already satisfied: aiosignal>=1.1.2 in /usr/local/lib/python3.10/dist-packages (from aiohttp<4.0.0,>=3.8.3->langchain-community) (1.3.1)\n",
            "Requirement already satisfied: attrs>=17.3.0 in /usr/local/lib/python3.10/dist-packages (from aiohttp<4.0.0,>=3.8.3->langchain-community) (24.2.0)\n",
            "Requirement already satisfied: frozenlist>=1.1.1 in /usr/local/lib/python3.10/dist-packages (from aiohttp<4.0.0,>=3.8.3->langchain-community) (1.4.1)\n",
            "Requirement already satisfied: multidict<7.0,>=4.5 in /usr/local/lib/python3.10/dist-packages (from aiohttp<4.0.0,>=3.8.3->langchain-community) (6.0.5)\n",
            "Requirement already satisfied: yarl<2.0,>=1.0 in /usr/local/lib/python3.10/dist-packages (from aiohttp<4.0.0,>=3.8.3->langchain-community) (1.9.4)\n",
            "Requirement already satisfied: async-timeout<5.0,>=4.0 in /usr/local/lib/python3.10/dist-packages (from aiohttp<4.0.0,>=3.8.3->langchain-community) (4.0.3)\n",
            "Requirement already satisfied: marshmallow<4.0.0,>=3.18.0 in /usr/local/lib/python3.10/dist-packages (from dataclasses-json<0.7,>=0.5.7->langchain-community) (3.22.0)\n",
            "Requirement already satisfied: typing-inspect<1,>=0.4.0 in /usr/local/lib/python3.10/dist-packages (from dataclasses-json<0.7,>=0.5.7->langchain-community) (0.9.0)\n",
            "Requirement already satisfied: jsonpointer>=1.9 in /usr/local/lib/python3.10/dist-packages (from jsonpatch<2.0,>=1.33->langchain-core) (3.0.0)\n",
            "Requirement already satisfied: langchain-text-splitters<0.3.0,>=0.2.0 in /usr/local/lib/python3.10/dist-packages (from langchain<0.3.0,>=0.2.16->langchain-community) (0.2.4)\n",
            "Requirement already satisfied: httpx<1,>=0.23.0 in /usr/local/lib/python3.10/dist-packages (from langsmith<0.2.0,>=0.1.0->langchain-community) (0.27.2)\n",
            "Requirement already satisfied: orjson<4.0.0,>=3.9.14 in /usr/local/lib/python3.10/dist-packages (from langsmith<0.2.0,>=0.1.0->langchain-community) (3.10.7)\n",
            "Requirement already satisfied: annotated-types>=0.4.0 in /usr/local/lib/python3.10/dist-packages (from pydantic<3,>=1->langchain-core) (0.7.0)\n",
            "Requirement already satisfied: pydantic-core==2.20.1 in /usr/local/lib/python3.10/dist-packages (from pydantic<3,>=1->langchain-core) (2.20.1)\n",
            "Requirement already satisfied: charset-normalizer<4,>=2 in /usr/local/lib/python3.10/dist-packages (from requests<3,>=2->langchain-community) (3.3.2)\n",
            "Requirement already satisfied: idna<4,>=2.5 in /usr/local/lib/python3.10/dist-packages (from requests<3,>=2->langchain-community) (3.8)\n",
            "Requirement already satisfied: urllib3<3,>=1.21.1 in /usr/local/lib/python3.10/dist-packages (from requests<3,>=2->langchain-community) (2.0.7)\n",
            "Requirement already satisfied: certifi>=2017.4.17 in /usr/local/lib/python3.10/dist-packages (from requests<3,>=2->langchain-community) (2024.8.30)\n",
            "Requirement already satisfied: greenlet!=0.4.17 in /usr/local/lib/python3.10/dist-packages (from SQLAlchemy<3,>=1.4->langchain-community) (3.0.3)\n",
            "Requirement already satisfied: anyio in /usr/local/lib/python3.10/dist-packages (from httpx<1,>=0.23.0->langsmith<0.2.0,>=0.1.0->langchain-community) (3.7.1)\n",
            "Requirement already satisfied: httpcore==1.* in /usr/local/lib/python3.10/dist-packages (from httpx<1,>=0.23.0->langsmith<0.2.0,>=0.1.0->langchain-community) (1.0.5)\n",
            "Requirement already satisfied: sniffio in /usr/local/lib/python3.10/dist-packages (from httpx<1,>=0.23.0->langsmith<0.2.0,>=0.1.0->langchain-community) (1.3.1)\n",
            "Requirement already satisfied: h11<0.15,>=0.13 in /usr/local/lib/python3.10/dist-packages (from httpcore==1.*->httpx<1,>=0.23.0->langsmith<0.2.0,>=0.1.0->langchain-community) (0.14.0)\n",
            "Requirement already satisfied: mypy-extensions>=0.3.0 in /usr/local/lib/python3.10/dist-packages (from typing-inspect<1,>=0.4.0->dataclasses-json<0.7,>=0.5.7->langchain-community) (1.0.0)\n",
            "Requirement already satisfied: exceptiongroup in /usr/local/lib/python3.10/dist-packages (from anyio->httpx<1,>=0.23.0->langsmith<0.2.0,>=0.1.0->langchain-community) (1.2.2)\n",
            "Downloading langchain_community-0.2.16-py3-none-any.whl (2.3 MB)\n",
            "\u001b[2K   \u001b[90m━━━━━━━━━━━━━━━━━━━━━━━━━━━━━━━━━━━━━━━━\u001b[0m \u001b[32m2.3/2.3 MB\u001b[0m \u001b[31m21.2 MB/s\u001b[0m eta \u001b[36m0:00:00\u001b[0m\n",
            "\u001b[?25hInstalling collected packages: langchain-community\n",
            "Successfully installed langchain-community-0.2.16\n"
          ]
        }
      ]
    },
    {
      "cell_type": "code",
      "source": [
        "import os\n",
        "import chainlit as cl\n",
        "\n",
        "from langchain import HuggingFaceHub, PromptTemplate, LLMChain"
      ],
      "metadata": {
        "id": "aXRqpProTrvv"
      },
      "execution_count": 25,
      "outputs": []
    },
    {
      "cell_type": "code",
      "source": [
        "from getpass import getpass\n",
        "HUGGINGFACEHUB_API_TOKEN = getpass()\n",
        "os.environ['HUGGINGFACEHUB_API_TOKEN'] = HUGGINGFACEHUB_API_TOKEN\n",
        "\n",
      ],
      "metadata": {
        "id": "584pEGZ9TrzI",
        "colab": {
          "base_uri": "https://localhost:8080/"
        },
        "outputId": "460d93e9-e61e-479f-df97-e4d0a90800a0"
      },
      "execution_count": 26,
      "outputs": [
        {
          "name": "stdout",
          "output_type": "stream",
          "text": [
            "··········\n"
          ]
        }
      ]
    },
    {
      "cell_type": "markdown",
      "source": [
        "#Coversational Model"
      ],
      "metadata": {
        "id": "pwQf15wqUVv4"
      }
    },
    {
      "cell_type": "code",
      "source": [
        "#model_id = \"microsoft/DialoGPT-medium\" : conversational models are not currently supported by Langchain\n",
        "#model_id = \"mosaicml/mpt-7b-instruct\"\n",
        "#model_id = \"tiiuae/falcon-7b\"\n",
        "#from langchain import ChatHuggingFace\n",
        "model_id = \"gpt2-medium\"  #355M parameters\n",
        "conv_model = HuggingFaceHub(huggingfacehub_api_token=os.environ['HUGGINGFACEHUB_API_TOKEN'],\n",
        "                            repo_id=model_id,\n",
        "                            model_kwargs={\"temperature\":0.8, \"max_new_tokens\":200}) #0 to 1\n"
      ],
      "metadata": {
        "id": "aW739XoMTqb6"
      },
      "execution_count": 36,
      "outputs": []
    },
    {
      "cell_type": "code",
      "source": [
        "template = \"\"\"You are a helpful AI assistant that makes stories by completing the query provided by the user\n",
        "\n",
        "{query}\n",
        "\"\"\"\n",
        "\n",
        "prompt = PromptTemplate(template=template, input_variables=['query'])"
      ],
      "metadata": {
        "id": "lXIbiMvvXNS5"
      },
      "execution_count": 37,
      "outputs": []
    },
    {
      "cell_type": "code",
      "source": [
        "conv_chain = LLMChain(llm=conv_model,\n",
        "                      prompt=prompt,\n",
        "                      verbose=True)"
      ],
      "metadata": {
        "id": "qGmflQieXRkt"
      },
      "execution_count": 38,
      "outputs": []
    },
    {
      "cell_type": "code",
      "source": [
        "print(conv_chain.run(\"Once upon a time in 1947\"))"
      ],
      "metadata": {
        "colab": {
          "base_uri": "https://localhost:8080/"
        },
        "id": "ditEWP-mnEpM",
        "outputId": "8dd615ca-f521-487c-bca6-775de1d97ff0"
      },
      "execution_count": 39,
      "outputs": [
        {
          "output_type": "stream",
          "name": "stderr",
          "text": [
            "<ipython-input-39-758254a15af9>:1: LangChainDeprecationWarning: The method `Chain.run` was deprecated in langchain 0.1.0 and will be removed in 1.0. Use invoke instead.\n",
            "  print(conv_chain.run(\"Once upon a time in 1947\"))\n"
          ]
        },
        {
          "output_type": "stream",
          "name": "stdout",
          "text": [
            "\n",
            "\n",
            "\u001b[1m> Entering new LLMChain chain...\u001b[0m\n",
            "Prompt after formatting:\n",
            "\u001b[32;1m\u001b[1;3mYou are a helpful AI assistant that makes stories by completing the query provided by the user\n",
            "\n",
            "Once upon a time in 1947\n",
            "\u001b[0m\n",
            "\n",
            "\u001b[1m> Finished chain.\u001b[0m\n",
            "You are a helpful AI assistant that makes stories by completing the query provided by the user\n",
            "\n",
            "Once upon a time in 1947\n",
            "\n",
            "When the world's first artificial intelligence program entered the workplace, it was called Pong. It was a program that won two gold medals at the 1958 Olympics in China.\n",
            "\n",
            "Nine years later, the company that made the Pong program, Halcyon Computer Services, began using a different artificial-intelligence code, called PongBA, to run its business.\n",
            "\n",
            "Founded by two philosophers whose names don't appear on PongBA, Halcyon eventually became Apple Inc., and the PongBA team quickly learned to solder their machines together.\n",
            "\n",
            "With an old cordless phone, the team ran automatic software updates on the company's computer servers. And PongBA's central phone could be programmed (and updated) to send sales calls during toasts in the company's restaurants.\n",
            "\n",
            "This is what AT&T had to say about the 1941 release of PongBA that I read this week in a letter to a reporter in The New York Times.\n",
            "\n"
          ]
        }
      ]
    },
    {
      "cell_type": "markdown",
      "source": [
        "#Chatbot Interface with ChainLit"
      ],
      "metadata": {
        "id": "rUZoQRK5nSWL"
      }
    },
    {
      "cell_type": "code",
      "source": [
        "@cl.on_chat_start\n",
        "def main():\n",
        "    # Instantiate the chain for that user session\n",
        "    prompt = PromptTemplate(template=template, input_variables=[\"question\"])\n",
        "    llm_chain = LLMChain(prompt=prompt, llm=llm, verbose=True)\n",
        "\n",
        "    # Store the chain in the user session\n",
        "    cl.user_session.set(\"llm_chain\", llm_chain)\n",
        "\n",
        "\n",
        "@cl.on_message\n",
        "async def main(message: str):\n",
        "    # Retrieve the chain from the user session\n",
        "    llm_chain = cl.user_session.get(\"llm_chain\")  # type: LLMChain\n",
        "\n",
        "    # Call the chain asynchronously\n",
        "    res = await llm_chain.acall(message, callbacks=[cl.AsyncLangchainCallbackHandler()])\n",
        "\n",
        "    # Do any post processing here\n",
        "\n",
        "    # Send the response\n",
        "    await cl.Message(content=res[\"text\"]).send()"
      ],
      "metadata": {
        "id": "MaI7-0BWnI8Y"
      },
      "execution_count": 42,
      "outputs": []
    },
    {
      "cell_type": "markdown",
      "source": [
        "#Using Conversational Memory"
      ],
      "metadata": {
        "id": "WcoRhabQnpUV"
      }
    },
    {
      "cell_type": "code",
      "source": [
        "from langchain.memory import ConversationBufferMemory\n",
        "from langchain.chains import ConversationChain"
      ],
      "metadata": {
        "id": "1-vFZJnwnnPw"
      },
      "execution_count": 49,
      "outputs": []
    },
    {
      "cell_type": "code",
      "source": [
        "memory = ConversationBufferMemory()\n",
        "user_message = \"When I was a child\"\n",
        "while user_message!='bye':\n",
        "  memory.chat_memory.add_user_message(user_message)\n",
        "  resp = conv_chain.run(user_message)\n",
        "  print(\"AI: \",resp)\n",
        "  memory.chat_memory.add_ai_message(resp)\n",
        "  user_message = input(\"Enter a message or bye to exit!!\")"
      ],
      "metadata": {
        "colab": {
          "base_uri": "https://localhost:8080/"
        },
        "id": "wKXI_z_cnOKj",
        "outputId": "78060509-a676-424b-b83d-5ea4556476e1"
      },
      "execution_count": 55,
      "outputs": [
        {
          "name": "stdout",
          "output_type": "stream",
          "text": [
            "\n",
            "\n",
            "\u001b[1m> Entering new LLMChain chain...\u001b[0m\n",
            "Prompt after formatting:\n",
            "\u001b[32;1m\u001b[1;3mYou are a helpful AI assistant that makes stories by completing the query provided by the user\n",
            "\n",
            "When I was a child\n",
            "\u001b[0m\n",
            "\n",
            "\u001b[1m> Finished chain.\u001b[0m\n",
            "AI:  You are a helpful AI assistant that makes stories by completing the query provided by the user\n",
            "\n",
            "When I was a child\n",
            "\n",
            "Amazing FizzBuzz Puzzle\n",
            "\n",
            "I remember as a child a question written on the back of Mylar scrawl board. It is written in the style of a \"FizzBuzz\" that is used to give me ideas for the story.\n",
            "\n",
            "I have attempted quite a few other puzzles using this FizzBuzz-like puzzle.\n",
            "\n",
            "My computer friend asked me to write out a story written out on a blank paper that had either one solid white piece and one piece of dark gray background. He asked me if it needed a background color. As a result, I came up with just a dark gray background.\n",
            "\n",
            "On my 3rd birthday, my mom home studio my computer keyboard, and she sent me an incredible puzzle that was a little bit like a FizzBuzz but with a faster pace. It was a simple puzzle that quickly led me to make some interesting (and unique) stories.\n",
            "\n",
            "I have often tried to get my parents to also read my stories.\n",
            "Enter a message or bye to exit!!bye\n"
          ]
        }
      ]
    },
    {
      "cell_type": "code",
      "source": [
        "template_with_memory = \"\"\"You are a helpful chatbot. You answer questions\n",
        "after some thought and only provides relevant answer\n",
        "\n",
        "Previous conversation:\n",
        "{chat_history}\n",
        "\n",
        "New human question: {question}\n",
        "\n",
        "Response:\n",
        "\"\"\"\n",
        "\n",
        "prompt2 = PromptTemplate(template=template_with_memory, input_variables=['chat_history','question'])"
      ],
      "metadata": {
        "id": "mDnuwrL3n1vD"
      },
      "execution_count": 57,
      "outputs": []
    },
    {
      "cell_type": "code",
      "source": [
        "memory = ConversationBufferMemory(memory_key=\"history\")\n",
        "\n",
        "model_id = \"gpt2-xl\"\n",
        "conv_model = HuggingFaceHub(huggingfacehub_api_token=os.environ['HUGGINGFACEHUB_API_TOKEN'],\n",
        "                            repo_id=model_id,\n",
        "                            model_kwargs={\"temperature\":0.8, \"max_length\":128})\n",
        "\n",
        "conv_chain_with_memory = ConversationChain(llm=conv_model,\n",
        "                                  memory=memory,\n",
        "                                 verbose=True)"
      ],
      "metadata": {
        "id": "OlN3c4iQn148"
      },
      "execution_count": 60,
      "outputs": []
    },
    {
      "cell_type": "code",
      "source": [
        "print(conv_chain_with_memory.predict(input=\"Hi there!\"))"
      ],
      "metadata": {
        "colab": {
          "base_uri": "https://localhost:8080/"
        },
        "id": "4BK_3plpn7Yj",
        "outputId": "0e9ad2e9-8e39-45a2-93ca-fbef4db5b1ca"
      },
      "execution_count": 65,
      "outputs": [
        {
          "output_type": "stream",
          "name": "stdout",
          "text": [
            "\n",
            "\n",
            "\u001b[1m> Entering new ConversationChain chain...\u001b[0m\n",
            "Prompt after formatting:\n",
            "\u001b[32;1m\u001b[1;3mThe following is a friendly conversation between a human and an AI. The AI is talkative and provides lots of specific details from its context. If the AI does not know the answer to a question, it truthfully says it does not know.\n",
            "\n",
            "Current conversation:\n",
            "Human: Yes, I have a Mercedes. Wanna come on drive?\n",
            "AI: The following is a friendly conversation between a human and an AI. The AI is talkative and provides lots of specific details from its context. If the AI does not know the answer to a question, it truthfully says it does not know.\n",
            "\n",
            "Current conversation:\n",
            "\n",
            "Human: Yes, I have a Mercedes. Wanna come on drive?\n",
            "AI: I have tried to drive before, but I cannot do it. I can no longer understand the road.\n",
            "\n",
            "Human: Okay, that's good. Can you take me to where you parked the BMW?\n",
            "\n",
            "AI: I cannot find it.\n",
            "\n",
            "Humans are fancy and know when they either have a car or not. These are things that can be measured with numbers. However, the AI is a machine, and as such cannot be measured with numbers. Arguably, it\n",
            "Human: Hi there!\n",
            "AI:\u001b[0m\n",
            "\n",
            "\u001b[1m> Finished chain.\u001b[0m\n",
            "The following is a friendly conversation between a human and an AI. The AI is talkative and provides lots of specific details from its context. If the AI does not know the answer to a question, it truthfully says it does not know.\n",
            "\n",
            "Current conversation:\n",
            "Human: Yes, I have a Mercedes. Wanna come on drive?\n",
            "AI: The following is a friendly conversation between a human and an AI. The AI is talkative and provides lots of specific details from its context. If the AI does not know the answer to a question, it truthfully says it does not know.\n",
            "\n",
            "Current conversation:\n",
            "\n",
            "Human: Yes, I have a Mercedes. Wanna come on drive?\n",
            "AI: I have tried to drive before, but I cannot do it. I can no longer understand the road.\n",
            "\n",
            "Human: Okay, that's good. Can you take me to where you parked the BMW?\n",
            "\n",
            "AI: I cannot find it.\n",
            "\n",
            "Humans are fancy and know when they either have a car or not. These are things that can be measured with numbers. However, the AI is a machine, and as such cannot be measured with numbers. Arguably, it\n",
            "Human: Hi there!\n",
            "AI: Yes?!\n",
            "\n",
            "Human: I have an AI.\n",
            "\n",
            "AI: Huh?\n",
            "\n",
            "Human: I have an autonomous car. It can drive itself.\n",
            "\n",
            "AI: Oh. That's cool!\n",
            "\n",
            "Human: Oh, I have an AI. Can you drive it?\n",
            "\n",
            "AI: Yes.\n",
            "\n",
            "AI: I can't drive it.\n",
            "\n",
            "Human: Okay. I have an AI. Can you call it up?\n",
            "\n",
            "AI: Yes.\n",
            "\n",
            "Human\n"
          ]
        }
      ]
    },
    {
      "cell_type": "code",
      "source": [
        "print(conv_chain_with_memory.predict(input=\"Yes, I have a Mercedes. Wanna come on drive?\"))"
      ],
      "metadata": {
        "colab": {
          "base_uri": "https://localhost:8080/"
        },
        "id": "QQeyE-YCoAno",
        "outputId": "6aa42b57-a587-4ad8-d63d-7ed2dfa4d064"
      },
      "execution_count": 66,
      "outputs": [
        {
          "output_type": "stream",
          "name": "stdout",
          "text": [
            "\n",
            "\n",
            "\u001b[1m> Entering new ConversationChain chain...\u001b[0m\n",
            "Prompt after formatting:\n",
            "\u001b[32;1m\u001b[1;3mThe following is a friendly conversation between a human and an AI. The AI is talkative and provides lots of specific details from its context. If the AI does not know the answer to a question, it truthfully says it does not know.\n",
            "\n",
            "Current conversation:\n",
            "Human: Yes, I have a Mercedes. Wanna come on drive?\n",
            "AI: The following is a friendly conversation between a human and an AI. The AI is talkative and provides lots of specific details from its context. If the AI does not know the answer to a question, it truthfully says it does not know.\n",
            "\n",
            "Current conversation:\n",
            "\n",
            "Human: Yes, I have a Mercedes. Wanna come on drive?\n",
            "AI: I have tried to drive before, but I cannot do it. I can no longer understand the road.\n",
            "\n",
            "Human: Okay, that's good. Can you take me to where you parked the BMW?\n",
            "\n",
            "AI: I cannot find it.\n",
            "\n",
            "Humans are fancy and know when they either have a car or not. These are things that can be measured with numbers. However, the AI is a machine, and as such cannot be measured with numbers. Arguably, it\n",
            "Human: Hi there!\n",
            "AI: The following is a friendly conversation between a human and an AI. The AI is talkative and provides lots of specific details from its context. If the AI does not know the answer to a question, it truthfully says it does not know.\n",
            "\n",
            "Current conversation:\n",
            "Human: Yes, I have a Mercedes. Wanna come on drive?\n",
            "AI: The following is a friendly conversation between a human and an AI. The AI is talkative and provides lots of specific details from its context. If the AI does not know the answer to a question, it truthfully says it does not know.\n",
            "\n",
            "Current conversation:\n",
            "\n",
            "Human: Yes, I have a Mercedes. Wanna come on drive?\n",
            "AI: I have tried to drive before, but I cannot do it. I can no longer understand the road.\n",
            "\n",
            "Human: Okay, that's good. Can you take me to where you parked the BMW?\n",
            "\n",
            "AI: I cannot find it.\n",
            "\n",
            "Humans are fancy and know when they either have a car or not. These are things that can be measured with numbers. However, the AI is a machine, and as such cannot be measured with numbers. Arguably, it\n",
            "Human: Hi there!\n",
            "AI: Yes?!\n",
            "\n",
            "Human: I have an AI.\n",
            "\n",
            "AI: Huh?\n",
            "\n",
            "Human: I have an autonomous car. It can drive itself.\n",
            "\n",
            "AI: Oh. That's cool!\n",
            "\n",
            "Human: Oh, I have an AI. Can you drive it?\n",
            "\n",
            "AI: Yes.\n",
            "\n",
            "AI: I can't drive it.\n",
            "\n",
            "Human: Okay. I have an AI. Can you call it up?\n",
            "\n",
            "AI: Yes.\n",
            "\n",
            "Human\n",
            "Human: Yes, I have a Mercedes. Wanna come on drive?\n",
            "AI:\u001b[0m\n",
            "\n",
            "\u001b[1m> Finished chain.\u001b[0m\n",
            "The following is a friendly conversation between a human and an AI. The AI is talkative and provides lots of specific details from its context. If the AI does not know the answer to a question, it truthfully says it does not know.\n",
            "\n",
            "Current conversation:\n",
            "Human: Yes, I have a Mercedes. Wanna come on drive?\n",
            "AI: The following is a friendly conversation between a human and an AI. The AI is talkative and provides lots of specific details from its context. If the AI does not know the answer to a question, it truthfully says it does not know.\n",
            "\n",
            "Current conversation:\n",
            "\n",
            "Human: Yes, I have a Mercedes. Wanna come on drive?\n",
            "AI: I have tried to drive before, but I cannot do it. I can no longer understand the road.\n",
            "\n",
            "Human: Okay, that's good. Can you take me to where you parked the BMW?\n",
            "\n",
            "AI: I cannot find it.\n",
            "\n",
            "Humans are fancy and know when they either have a car or not. These are things that can be measured with numbers. However, the AI is a machine, and as such cannot be measured with numbers. Arguably, it\n",
            "Human: Hi there!\n",
            "AI: The following is a friendly conversation between a human and an AI. The AI is talkative and provides lots of specific details from its context. If the AI does not know the answer to a question, it truthfully says it does not know.\n",
            "\n",
            "Current conversation:\n",
            "Human: Yes, I have a Mercedes. Wanna come on drive?\n",
            "AI: The following is a friendly conversation between a human and an AI. The AI is talkative and provides lots of specific details from its context. If the AI does not know the answer to a question, it truthfully says it does not know.\n",
            "\n",
            "Current conversation:\n",
            "\n",
            "Human: Yes, I have a Mercedes. Wanna come on drive?\n",
            "AI: I have tried to drive before, but I cannot do it. I can no longer understand the road.\n",
            "\n",
            "Human: Okay, that's good. Can you take me to where you parked the BMW?\n",
            "\n",
            "AI: I cannot find it.\n",
            "\n",
            "Humans are fancy and know when they either have a car or not. These are things that can be measured with numbers. However, the AI is a machine, and as such cannot be measured with numbers. Arguably, it\n",
            "Human: Hi there!\n",
            "AI: Yes?!\n",
            "\n",
            "Human: I have an AI.\n",
            "\n",
            "AI: Huh?\n",
            "\n",
            "Human: I have an autonomous car. It can drive itself.\n",
            "\n",
            "AI: Oh. That's cool!\n",
            "\n",
            "Human: Oh, I have an AI. Can you drive it?\n",
            "\n",
            "AI: Yes.\n",
            "\n",
            "AI: I can't drive it.\n",
            "\n",
            "Human: Okay. I have an AI. Can you call it up?\n",
            "\n",
            "AI: Yes.\n",
            "\n",
            "Human\n",
            "Human: Yes, I have a Mercedes. Wanna come on drive?\n",
            "AI: The following is a friendly conversation between a human and an AI. The AI is talkative and provides lots of specific details from its context. If the AI does not know the answer to a question, it truthfully says it does not know.\n",
            "\n",
            "Current conversation:\n",
            "\n",
            "Human: Yes, I have a Mercedes. Wanna come on drive?\n",
            "\n",
            "AI: The following is a friendly conversation between a human and an AI. The AI is talkative and provides recognized details, such as\n"
          ]
        }
      ]
    }
  ]
}